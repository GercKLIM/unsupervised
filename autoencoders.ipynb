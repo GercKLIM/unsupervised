{
 "cells": [
  {
   "cell_type": "code",
   "id": "initial_id",
   "metadata": {
    "collapsed": true,
    "ExecuteTime": {
     "end_time": "2025-04-29T10:07:57.764406Z",
     "start_time": "2025-04-29T10:07:53.782769Z"
    }
   },
   "source": [
    "import numpy as np\n",
    "from scipy.sparse import load_npz\n",
    "from sklearn.preprocessing import StandardScaler\n",
    "import torch\n",
    "import torch.nn as nn\n",
    "import torch.optim as optim\n",
    "from torch.utils.data import DataLoader, TensorDataset"
   ],
   "outputs": [],
   "execution_count": 1
  },
  {
   "metadata": {
    "ExecuteTime": {
     "end_time": "2025-04-29T10:08:10.966689Z",
     "start_time": "2025-04-29T10:08:08.772249Z"
    }
   },
   "cell_type": "code",
   "source": [
    "# Загрузка данных\n",
    "train = load_npz(\"data/train.npz\")\n",
    "X = train.toarray()\n",
    "\n",
    "# Стандартизация\n",
    "scaler = StandardScaler()\n",
    "X_scaled = scaler.fit_transform(X)\n",
    "\n",
    "# Преобразование в тензоры\n",
    "X_tensor = torch.tensor(X_scaled, dtype=torch.float32)\n",
    "dataset = TensorDataset(X_tensor)\n",
    "loader = DataLoader(dataset, batch_size=256, shuffle=True)"
   ],
   "id": "be3eba70bdd1bb27",
   "outputs": [],
   "execution_count": 3
  },
  {
   "metadata": {
    "ExecuteTime": {
     "end_time": "2025-04-29T10:08:16.841979Z",
     "start_time": "2025-04-29T10:08:16.801982Z"
    }
   },
   "cell_type": "code",
   "source": [
    "class Autoencoder(nn.Module):\n",
    "    def __init__(self, input_dim, latent_dim):\n",
    "        super(Autoencoder, self).__init__()\n",
    "        \n",
    "        # Encoder\n",
    "        self.encoder = nn.Sequential(\n",
    "            nn.Linear(input_dim, 512),\n",
    "            nn.ReLU(),\n",
    "            nn.Linear(512, 256),\n",
    "            nn.ReLU(),\n",
    "            nn.Linear(256, latent_dim)\n",
    "        )\n",
    "        \n",
    "        # Decoder\n",
    "        self.decoder = nn.Sequential(\n",
    "            nn.Linear(latent_dim, 256),\n",
    "            nn.ReLU(),\n",
    "            nn.Linear(256, 512),\n",
    "            nn.ReLU(),\n",
    "            nn.Linear(512, input_dim)\n",
    "        )\n",
    "\n",
    "    def forward(self, x):\n",
    "        z = self.encoder(x)\n",
    "        x_recon = self.decoder(z)\n",
    "        return z, x_recon"
   ],
   "id": "533ccd85538dde35",
   "outputs": [],
   "execution_count": 4
  },
  {
   "metadata": {
    "ExecuteTime": {
     "end_time": "2025-04-29T10:13:24.223736Z",
     "start_time": "2025-04-29T10:08:25.200726Z"
    }
   },
   "cell_type": "code",
   "source": [
    "input_dim = X_scaled.shape[1]\n",
    "latent_dim = 64  # Можно менять\n",
    "\n",
    "autoencoder = Autoencoder(input_dim, latent_dim)\n",
    "criterion = nn.MSELoss()\n",
    "optimizer = optim.Adam(autoencoder.parameters(), lr=0.001)\n",
    "\n",
    "device = torch.device(\"cuda\" if torch.cuda.is_available() else \"cpu\")\n",
    "autoencoder.to(device)\n",
    "\n",
    "# Обучение\n",
    "for epoch in range(50):  # Эпохи\n",
    "    for batch in loader:\n",
    "        inputs = batch[0].to(device)\n",
    "\n",
    "        # Forward pass\n",
    "        _, reconstructions = autoencoder(inputs)\n",
    "        loss = criterion(reconstructions, inputs)\n",
    "\n",
    "        # Backward and optimize\n",
    "        optimizer.zero_grad()\n",
    "        loss.backward()\n",
    "        optimizer.step()\n",
    "\n",
    "    print(f'Epoch [{epoch+1}/50], Loss: {loss.item():.4f}')"
   ],
   "id": "585dd622f649814b",
   "outputs": [
    {
     "name": "stdout",
     "output_type": "stream",
     "text": [
      "Epoch [1/50], Loss: 0.8844\n",
      "Epoch [2/50], Loss: 0.7551\n",
      "Epoch [3/50], Loss: 0.7868\n",
      "Epoch [4/50], Loss: 0.7363\n",
      "Epoch [5/50], Loss: 0.7402\n",
      "Epoch [6/50], Loss: 0.7643\n",
      "Epoch [7/50], Loss: 0.7442\n",
      "Epoch [8/50], Loss: 0.7541\n",
      "Epoch [9/50], Loss: 0.7453\n",
      "Epoch [10/50], Loss: 0.7806\n",
      "Epoch [11/50], Loss: 0.7542\n",
      "Epoch [12/50], Loss: 0.7522\n",
      "Epoch [13/50], Loss: 0.7472\n",
      "Epoch [14/50], Loss: 0.7155\n",
      "Epoch [15/50], Loss: 0.7573\n",
      "Epoch [16/50], Loss: 0.7272\n",
      "Epoch [17/50], Loss: 0.7421\n",
      "Epoch [18/50], Loss: 0.7357\n",
      "Epoch [19/50], Loss: 0.7403\n",
      "Epoch [20/50], Loss: 0.7552\n",
      "Epoch [21/50], Loss: 0.7443\n",
      "Epoch [22/50], Loss: 0.7092\n",
      "Epoch [23/50], Loss: 0.7025\n",
      "Epoch [24/50], Loss: 0.7054\n",
      "Epoch [25/50], Loss: 0.7629\n",
      "Epoch [26/50], Loss: 0.7118\n",
      "Epoch [27/50], Loss: 0.6988\n",
      "Epoch [28/50], Loss: 0.7056\n",
      "Epoch [29/50], Loss: 0.7318\n",
      "Epoch [30/50], Loss: 0.6825\n",
      "Epoch [31/50], Loss: 0.7045\n",
      "Epoch [32/50], Loss: 0.7429\n",
      "Epoch [33/50], Loss: 0.7005\n",
      "Epoch [34/50], Loss: 0.7030\n",
      "Epoch [35/50], Loss: 0.7017\n",
      "Epoch [36/50], Loss: 0.7317\n",
      "Epoch [37/50], Loss: 0.7403\n",
      "Epoch [38/50], Loss: 0.7421\n",
      "Epoch [39/50], Loss: 0.7246\n",
      "Epoch [40/50], Loss: 0.8752\n",
      "Epoch [41/50], Loss: 0.7151\n",
      "Epoch [42/50], Loss: 0.7289\n",
      "Epoch [43/50], Loss: 0.7159\n",
      "Epoch [44/50], Loss: 0.6773\n",
      "Epoch [45/50], Loss: 0.7027\n",
      "Epoch [46/50], Loss: 0.7128\n",
      "Epoch [47/50], Loss: 0.6993\n",
      "Epoch [48/50], Loss: 0.7127\n",
      "Epoch [49/50], Loss: 0.7189\n",
      "Epoch [50/50], Loss: 0.6863\n"
     ]
    }
   ],
   "execution_count": 5
  },
  {
   "metadata": {
    "ExecuteTime": {
     "end_time": "2025-04-29T10:13:30.003072Z",
     "start_time": "2025-04-29T10:13:28.945074Z"
    }
   },
   "cell_type": "code",
   "source": [
    "autoencoder.eval()\n",
    "with torch.no_grad():\n",
    "    latent_representations = autoencoder.encoder(X_tensor).numpy()"
   ],
   "id": "6dc3246a492ad56a",
   "outputs": [],
   "execution_count": 6
  },
  {
   "metadata": {
    "ExecuteTime": {
     "end_time": "2025-04-29T10:13:38.111639Z",
     "start_time": "2025-04-29T10:13:36.576329Z"
    }
   },
   "cell_type": "code",
   "source": [
    "from sklearn.cluster import KMeans\n",
    "\n",
    "n_clusters = 5  # На основе sample_submission.csv\n",
    "kmeans = KMeans(n_clusters=n_clusters, random_state=42)\n",
    "labels = kmeans.fit_predict(latent_representations)"
   ],
   "id": "a584b4cd38388afe",
   "outputs": [],
   "execution_count": 7
  },
  {
   "metadata": {
    "ExecuteTime": {
     "end_time": "2025-04-29T10:13:51.847149Z",
     "start_time": "2025-04-29T10:13:42.589146Z"
    }
   },
   "cell_type": "code",
   "source": [
    "from sklearn.metrics import silhouette_score, calinski_harabasz_score, davies_bouldin_score\n",
    "\n",
    "print(f\"Silhouette Score: {silhouette_score(latent_representations, labels):.4f}\")\n",
    "print(f\"Calinski-Harabasz Score: {calinski_harabasz_score(latent_representations, labels):.2f}\")\n",
    "print(f\"Davies-Bouldin Score: {davies_bouldin_score(latent_representations, labels):.4f}\")"
   ],
   "id": "dbc30f179d61cf44",
   "outputs": [
    {
     "name": "stdout",
     "output_type": "stream",
     "text": [
      "Silhouette Score: 0.0775\n",
      "Calinski-Harabasz Score: 542.41\n",
      "Davies-Bouldin Score: 4.0081\n"
     ]
    }
   ],
   "execution_count": 8
  },
  {
   "metadata": {
    "ExecuteTime": {
     "end_time": "2025-04-29T10:14:25.078978Z",
     "start_time": "2025-04-29T10:14:25.048984Z"
    }
   },
   "cell_type": "code",
   "source": [
    "import pandas as pd\n",
    "\n",
    "submission = pd.DataFrame({\n",
    "    \"ID\": range(len(labels)),\n",
    "    \"TARGET\": labels\n",
    "})\n",
    "\n",
    "submission.to_csv(\"submission_submit_autoencoders_1.csv\", index=False)"
   ],
   "id": "df18103673c3a90",
   "outputs": [],
   "execution_count": 10
  }
 ],
 "metadata": {
  "kernelspec": {
   "display_name": "Python 3",
   "language": "python",
   "name": "python3"
  },
  "language_info": {
   "codemirror_mode": {
    "name": "ipython",
    "version": 2
   },
   "file_extension": ".py",
   "mimetype": "text/x-python",
   "name": "python",
   "nbconvert_exporter": "python",
   "pygments_lexer": "ipython2",
   "version": "2.7.6"
  }
 },
 "nbformat": 4,
 "nbformat_minor": 5
}

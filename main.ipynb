{
 "cells": [
  {
   "metadata": {},
   "cell_type": "markdown",
   "source": [
    "# ML 2025 Spring. Unsupervised\n",
    "\n",
    "## Контакты участника\n",
    "\n",
    "Если у вас возникли вопросы по этому проекту или вы хотите обсудить сотрудничество, свяжитесь со мной:\n",
    "\n",
    "- Email: gerceg0808@yandex.ru   \n",
    "- Tg: [@GercKLIM](https://t.me/GercKLIM)\n",
    "- GitHub: [@GercKLIM](https://github.com/GercKLIM) \n",
    "\n",
    "## Описание\n",
    "Вам предоставлен набор данных -- некоторых вещественно значных признаков. Вам нужно проставить метки классов, другими словами кластеризовать данные.\n",
    "\n",
    "Метрика оценки качества -- Adjusted Rand Score\n",
    "\n",
    "Данные -- sparse матрица размера (21000, 3049).\n",
    "\n",
    "## Оценка:\n",
    "\n",
    "1. Ниже simple порога — **0 баллов**.\n",
    "   - Если ваш итоговый скор ниже simple порога, вы получите 0 баллов.\n",
    "\n",
    "2. Выше simple порога:\n",
    "   - Баллы распределяются по формуле:\n",
    "     \\[\n",
    "     grade = 5 + 5 \\cdot \\frac{your\\_score - simple\\_score}{best\\_score - simple\\_score}\n",
    "     \\]\n",
    "   - То есть:\n",
    "     - Если ваш итоговый скор близок к simple порогу, то вы получите около **5 баллов**.\n",
    "     - При этом, если ваше решение близко к лучшему решению на лидерборде, то вы получите близкое к максимальному баллу (**10**).\n",
    "   \n",
    "\n",
    "### Hard Deadline: **4 мая 23:55**\n"
   ],
   "id": "dff571a43c86f6eb"
  },
  {
   "metadata": {},
   "cell_type": "markdown",
   "source": [
    "## 1. Загрузка и предобработка данных\n",
    "\n",
    "На этом этапе:\n",
    "- Загружается разреженная матрица из файла `train.npz`.\n",
    "- Преобразуется в плотный формат NumPy массива\n",
    "- Производится **стандартизация признаков** с помощью `StandardScaler`"
   ],
   "id": "936dee08c256936a"
  },
  {
   "cell_type": "code",
   "id": "initial_id",
   "metadata": {
    "collapsed": true,
    "ExecuteTime": {
     "end_time": "2025-05-01T14:59:49.364751Z",
     "start_time": "2025-05-01T14:59:48.332750Z"
    }
   },
   "source": [
    "from scipy.sparse import load_npz\n",
    "import numpy as np\n",
    "import pandas as pd\n",
    "\n",
    "# Загрузка спарсной матрицы\n",
    "train = load_npz(\"data/train.npz\")"
   ],
   "outputs": [],
   "execution_count": 210
  },
  {
   "metadata": {
    "ExecuteTime": {
     "end_time": "2025-05-01T14:59:50.898158Z",
     "start_time": "2025-05-01T14:59:50.020157Z"
    }
   },
   "cell_type": "code",
   "source": [
    "print(\"Shape of the matrix:\", train.shape)\n",
    "print(\"Data type:\", train.dtype)\n",
    "print(\"Number of non-zero elements:\", train.nnz)\n",
    "print(\"Sparsity ratio:\", train.nnz / (train.shape[0] * train.shape[1]))\n",
    "print()\n",
    "\n",
    "# Преобразуем спарс-матрицу в dense формат для анализа \n",
    "dense_train = train.toarray()\n",
    "\n",
    "# Проверяем среднее значение и стандартное отклонение\n",
    "print(\"Mean:\", dense_train.mean())\n",
    "print(\"Standard deviation:\", dense_train.std())\n",
    "\n",
    "# Проверяем диапазон значений\n",
    "print(\"Min value:\", dense_train.min())\n",
    "print(\"Max value:\", dense_train.max())"
   ],
   "id": "370c7d265939f3ee",
   "outputs": [
    {
     "name": "stdout",
     "output_type": "stream",
     "text": [
      "Shape of the matrix: (21000, 3049)\n",
      "Data type: float64\n",
      "Number of non-zero elements: 11704521\n",
      "Sparsity ratio: 0.18280030923487794\n",
      "\n",
      "Mean: 32.13573808896806\n",
      "Standard deviation: 1763.0738579489714\n",
      "Min value: -253.840036242498\n",
      "Max value: 100000.0\n"
     ]
    }
   ],
   "execution_count": 211
  },
  {
   "metadata": {
    "ExecuteTime": {
     "end_time": "2025-05-01T15:00:45.260064Z",
     "start_time": "2025-05-01T15:00:45.249067Z"
    }
   },
   "cell_type": "code",
   "source": "dense_train",
   "id": "f0e85d523d23acb4",
   "outputs": [
    {
     "data": {
      "text/plain": [
       "array([[0.        , 0.        , 0.        , ..., 9.159356  , 0.        ,\n",
       "        0.        ],\n",
       "       [0.        , 0.        , 0.        , ..., 4.43292687, 0.        ,\n",
       "        0.        ],\n",
       "       [0.        , 0.        , 1.        , ..., 6.10839882, 0.        ,\n",
       "        0.        ],\n",
       "       ...,\n",
       "       [0.        , 0.66891163, 0.        , ..., 2.05821306, 0.        ,\n",
       "        0.        ],\n",
       "       [0.        , 0.        , 0.        , ..., 1.24942643, 0.        ,\n",
       "        0.        ],\n",
       "       [0.        , 0.        , 0.        , ..., 5.48605658, 0.        ,\n",
       "        0.        ]])"
      ]
     },
     "execution_count": 218,
     "metadata": {},
     "output_type": "execute_result"
    }
   ],
   "execution_count": 218
  },
  {
   "metadata": {
    "ExecuteTime": {
     "end_time": "2025-05-01T15:01:51.336189Z",
     "start_time": "2025-05-01T15:01:51.201201Z"
    }
   },
   "cell_type": "code",
   "source": "print(\"Number of zero elements:\", (dense_train == 0).sum())",
   "id": "fdeace4b6b96c53a",
   "outputs": [
    {
     "name": "stdout",
     "output_type": "stream",
     "text": [
      "Number of zero elements: 52324479\n"
     ]
    }
   ],
   "execution_count": 219
  },
  {
   "metadata": {
    "ExecuteTime": {
     "end_time": "2025-05-01T15:02:27.257906Z",
     "start_time": "2025-05-01T15:01:52.289894Z"
    }
   },
   "cell_type": "code",
   "source": [
    "# Преобразуем в плотную матрицу \n",
    "X_dense = train.toarray()\n",
    "\n",
    "# Стандартизация данных (!очень важно для (H)DBSCAN!)\n",
    "from sklearn.preprocessing import StandardScaler, MinMaxScaler,MaxAbsScaler,RobustScaler, QuantileTransformer,PowerTransformer\n",
    "\n",
    "# scaler = StandardScaler()\n",
    "# scaler = MinMaxScaler()\n",
    "# scaler = MaxAbsScaler()\n",
    "# scaler = RobustScaler()\n",
    "# scaler = QuantileTransformer()\n",
    "scaler = PowerTransformer()\n",
    "\n",
    "\n",
    "X_scaled = scaler.fit_transform(X_dense)"
   ],
   "id": "12bd134f2ea2e879",
   "outputs": [],
   "execution_count": 220
  },
  {
   "metadata": {},
   "cell_type": "markdown",
   "source": [
    "## 2. Визуализация данных с помощью t-SNE\n",
    "\n",
    "На этом этапе:\n",
    "- Используется **t-SNE (t-Distributed Stochastic Neighbor Embedding)** для снижения размерности данных до **2D**, чтобы можно было визуализировать их на плоскости.\n",
    "- Результаты отображаются с помощью `matplotlib`, где каждая точка соответствует одному объекту из данных.\n",
    "\n",
    "Эта визуализация поможет понять структуру данных и проверить, насколько хорошо они группируются перед применением методов кластеризации."
   ],
   "id": "2470be562f838db5"
  },
  {
   "metadata": {
    "ExecuteTime": {
     "end_time": "2025-05-01T15:02:31.897782Z",
     "start_time": "2025-05-01T15:02:31.879788Z"
    }
   },
   "cell_type": "code",
   "source": [
    "# from sklearn.manifold import TSNE\n",
    "# \n",
    "# # Уменьшаем до 2D для визуализации\n",
    "# X_embedded = TSNE(n_components=2, random_state=42).fit_transform(X_dense)\n",
    "# \n",
    "# # Рисуем\n",
    "# import matplotlib.pyplot as plt\n",
    "# plt.scatter(X_embedded[:, 0], X_embedded[:, 1], s=1)\n",
    "# plt.title(\"t-SNE visualization of the data\")\n",
    "# plt.show()"
   ],
   "id": "61e0c9fd35f73a45",
   "outputs": [],
   "execution_count": 221
  },
  {
   "metadata": {},
   "cell_type": "markdown",
   "source": [
    "## 3. Визуализация данных с помощью UMAP\n",
    "\n",
    "На этом этапе:\n",
    "- Применяется алгоритм **UMAP (Uniform Manifold Approximation and Projection)** — ещё один мощный метод снижения размерности, часто превосходящий t-SNE по скорости и сохранению глобальной структуры данных.\n",
    "- Данные из плотного представления `X_dense` проецируются в двумерное пространство (`n_components=2`) с помощью UMAP.\n",
    "- Результат отображается на графике с использованием `matplotlib`.\n",
    "\n",
    "\n",
    "Эта визуализация поможет понять топологию данных и сравнить эффективность UMAP против t-SNE."
   ],
   "id": "8d790410e9b59eb3"
  },
  {
   "metadata": {
    "ExecuteTime": {
     "end_time": "2025-05-01T15:02:34.294331Z",
     "start_time": "2025-05-01T15:02:34.278338Z"
    }
   },
   "cell_type": "code",
   "source": [
    "# import umap\n",
    "# \n",
    "# reducer = umap.UMAP(n_components=2)\n",
    "# X_umap = reducer.fit_transform(X_dense)\n",
    "# plt.scatter(X_umap[:, 0], X_umap[:, 1], s=1)\n",
    "# plt.title(\"UMAP visualization of the data\")\n",
    "# plt.show()"
   ],
   "id": "d9d47730b66626f5",
   "outputs": [],
   "execution_count": 222
  },
  {
   "metadata": {},
   "cell_type": "markdown",
   "source": [
    "## 4. Анализ главных компонент (PCA)\n",
    "\n",
    "На этом этапе:\n",
    "- Применяется метод **Principal Component Analysis (PCA)** — классический подход к снижению размерности, основанный на поиске направлений максимальной дисперсии.\n",
    "- Вычисляется **доля объяснённой дисперсии** для каждого компонента.\n",
    "- Строится график **кумулятивной объяснённой дисперсии** в зависимости от количества компонент.\n",
    "\n",
    "\n",
    "Этот анализ полезен при подготовке данных к дальнейшей кластеризации или снижению размерности с минимальными потерями информации."
   ],
   "id": "da7492ce2a5060a2"
  },
  {
   "metadata": {
    "ExecuteTime": {
     "end_time": "2025-05-01T15:02:37.568290Z",
     "start_time": "2025-05-01T15:02:37.556293Z"
    }
   },
   "cell_type": "code",
   "source": [
    "# from sklearn.decomposition import PCA\n",
    "# \n",
    "# pca = PCA().fit(X_dense)\n",
    "# plt.plot(np.cumsum(pca.explained_variance_ratio_))\n",
    "# plt.xlabel('Number of Components')\n",
    "# plt.ylabel('Cumulative Explained Variance')\n",
    "# plt.title('PCA Explained Variance')\n",
    "# plt.show()"
   ],
   "id": "a2cd1935579c474f",
   "outputs": [],
   "execution_count": 223
  },
  {
   "metadata": {},
   "cell_type": "markdown",
   "source": [
    "## 5. Кластеризация с помощью K-Means\n",
    "\n",
    "На этом этапе:\n",
    "- Применяется один из самых популярных алгоритмов кластеризации — **K-Means**, который разбивает данные на заданное количество кластеров (`n_clusters`).\n",
    "- В данном случае мы выбираем `n_clusters = 20`, чтобы получить достаточно детализированное разделение данных.\n",
    "- Модель обучается и сразу предсказывает метки кластеров для каждого объекта в датасете.\n",
    "\n",
    "K-Means чувствителен к масштабу признаков, поэтому предыдущая стандартизация (`StandardScaler`) была обязательной.\n",
    "\n"
   ],
   "id": "895fd432898076b3"
  },
  {
   "metadata": {
    "ExecuteTime": {
     "end_time": "2025-05-01T15:02:41.943207Z",
     "start_time": "2025-05-01T15:02:39.809209Z"
    }
   },
   "cell_type": "code",
   "source": [
    "from sklearn.cluster import KMeans\n",
    "import umap\n",
    "\n",
    "# umap_model = umap.UMAP(n_components=20, random_state=42)\n",
    "# X_umap = umap_model.fit_transform(X_scaled)\n",
    "\n",
    "kmeans = KMeans(n_clusters = 5, random_state=42)\n",
    "labels = kmeans.fit_predict(X_scaled)  # Обучаем и предсказываем кластеры"
   ],
   "id": "589f29b0ef2c5103",
   "outputs": [],
   "execution_count": 224
  },
  {
   "metadata": {},
   "cell_type": "markdown",
   "source": [
    "## 6. Оценка качества кластеризации\n",
    "\n",
    "После получения меток кластеров с помощью K-Means, важно оценить, насколько хорошо данные разделены на кластеры.\n",
    "\n",
    "Для этого мы используем три популярные метрики:\n",
    "- **Silhouette Score** — показывает, насколько объекты внутри кластера близки друг к другу по сравнению с другими кластерами. Значение близко к `1` говорит о хорошем разделении.\n",
    "- **Calinski-Harabasz Index** — мера, основанная на соотношении межкластерной и внутрикластерной дисперсии. Чем выше значение — тем лучше.\n",
    "- **Davies-Bouldin Score** — мера, характеризующая среднее «сходство» между кластерами. Чем ниже значение — тем лучше.\n",
    "\n",
    "Ниже приведены значения метрик для текущего разбиения на кластеры."
   ],
   "id": "b1843a7672f8fc8a"
  },
  {
   "metadata": {
    "ExecuteTime": {
     "end_time": "2025-05-01T15:02:43.862062Z",
     "start_time": "2025-05-01T15:02:43.848062Z"
    }
   },
   "cell_type": "code",
   "source": [
    "# from sklearn.metrics import silhouette_score, calinski_harabasz_score, davies_bouldin_score\n",
    "# \n",
    "# # Вычисляем метрики качества кластеризации\n",
    "# print(f\"Silhouette Score: {silhouette_score(X_scaled, labels):.4f}\")\n",
    "# print(f\"Calinski-Harabasz Score: {calinski_harabasz_score(X_scaled, labels):.2f}\")\n",
    "# print(f\"Davies-Bouldin Score: {davies_bouldin_score(X_scaled, labels):.4f}\")"
   ],
   "id": "3118fe2c561ac85f",
   "outputs": [],
   "execution_count": 225
  },
  {
   "metadata": {},
   "cell_type": "markdown",
   "source": [
    "## 7. Формирование файла для отправки (submission.csv)\n",
    "\n",
    "После завершения кластеризации и анализа качества, формируем финальный файл `submission.csv`, который будет отправлен на платформу Kaggle.\n",
    "\n",
    "Файл содержит две колонки:\n",
    "- `ID` — индекс объекта из исходной выборки\n",
    "- `TARGET` — предсказанная метка кластера для каждого объекта\n",
    "\n",
    "Ниже представлен код для сохранения результата в CSV-файл."
   ],
   "id": "4cdc678c9d83f9e4"
  },
  {
   "metadata": {
    "ExecuteTime": {
     "end_time": "2025-05-01T15:02:50.774391Z",
     "start_time": "2025-05-01T15:02:50.750398Z"
    }
   },
   "cell_type": "code",
   "source": [
    "import pandas as pd\n",
    "\n",
    "submission = pd.DataFrame({\n",
    "    \"ID\": range(len(labels)),\n",
    "    \"TARGET\": labels\n",
    "})\n",
    "\n",
    "submission.to_csv(\"submission_submit_main_2.csv\", index=False)"
   ],
   "id": "2072a2d8a695a4fc",
   "outputs": [],
   "execution_count": 226
  },
  {
   "metadata": {},
   "cell_type": "markdown",
   "source": [
    "## 8. Сравнение с эталонным решением (Adjusted Rand Score)\n",
    "\n",
    "Если у нас есть файл с близкими к правильным метками, мы можем оценить, насколько наше решение соответствует ему. Так мы исследуем изменение метрик в результатах в зависимости от скора на платформе Kaggle.\n",
    "\n",
    "Для этого используется метрика:\n",
    "- **Adjusted Rand Score (ARI)** — мера схожести между двумя разбиениями, не зависящая от обозначения кластеров. Значение:\n",
    "  - `1.0` — идеальное совпадение\n",
    "  - `0.0` — случайное разбиение\n",
    "  - Может быть отрицательным, если совпадение хуже случайного\n",
    "\n",
    "\n",
    "Ниже приведён код для загрузки истинных меток и вычисления Adjusted Rand Score."
   ],
   "id": "7cecc74fcc3d4063"
  },
  {
   "metadata": {
    "ExecuteTime": {
     "end_time": "2025-05-01T15:04:51.989965Z",
     "start_time": "2025-05-01T15:04:51.972952Z"
    }
   },
   "cell_type": "code",
   "source": [
    "true_labels = pd.read_csv(\"submission_submit_main_1.csv\")[\"TARGET\"].values\n",
    "from sklearn.metrics import adjusted_rand_score\n",
    "\n",
    "ari = adjusted_rand_score(true_labels, labels)\n",
    "print(f\"Adjusted Rand Score vs Sample Submission: {ari:.4f}\")"
   ],
   "id": "671bee29c19f4a86",
   "outputs": [
    {
     "name": "stdout",
     "output_type": "stream",
     "text": [
      "Adjusted Rand Score vs Sample Submission: 1.0000\n"
     ]
    }
   ],
   "execution_count": 228
  },
  {
   "metadata": {
    "ExecuteTime": {
     "end_time": "2025-05-01T15:04:53.725748Z",
     "start_time": "2025-05-01T15:04:53.704768Z"
    }
   },
   "cell_type": "code",
   "source": "set(true_labels)",
   "id": "297a3357f38a6810",
   "outputs": [
    {
     "data": {
      "text/plain": [
       "{np.int64(0), np.int64(1), np.int64(2), np.int64(3), np.int64(4)}"
      ]
     },
     "execution_count": 229,
     "metadata": {},
     "output_type": "execute_result"
    }
   ],
   "execution_count": 229
  },
  {
   "metadata": {
    "ExecuteTime": {
     "end_time": "2025-05-01T15:06:36.209955Z",
     "start_time": "2025-05-01T15:06:35.475964Z"
    }
   },
   "cell_type": "code",
   "source": [
    "import pandas as pd\n",
    "import matplotlib.pyplot as plt\n",
    "import seaborn as sns\n",
    "\n",
    "# Загружаем пример подачи решения (sample submission)\n",
    "submission_example = pd.read_csv(\"submission_submit_main_1.csv\")\n",
    "\n",
    "# Предсказанные метки\n",
    "predicted_labels = labels\n",
    "\n",
    "submission_predicted = pd.DataFrame({\n",
    "    \"ID\": range(len(predicted_labels)),\n",
    "    \"TARGET\": predicted_labels\n",
    "})\n",
    "\n",
    "# Визуализация\n",
    "fig, axes = plt.subplots(1, 2, figsize=(14, 6), sharey=True)\n",
    "\n",
    "# График 1: Распределение в sample submission\n",
    "sns.countplot(x=\"TARGET\", data=submission_example, ax=axes[0], hue=\"TARGET\", palette=\"viridis\", legend=False)\n",
    "axes[0].set_title(\"OLD Submission\\n(Label Distribution)\")\n",
    "axes[0].set_xlabel(\"Target Label\")\n",
    "axes[0].set_ylabel(\"Count\")\n",
    "\n",
    "# График 2: Распределение в предсказаниях\n",
    "sns.countplot(x=\"TARGET\", data=submission_predicted, ax=axes[1], hue=\"TARGET\", palette=\"plasma\", legend=False)\n",
    "axes[1].set_title(\"NEW Submission\\n(Label Distribution)\")\n",
    "axes[1].set_xlabel(\"Cluster / Target Label\")\n",
    "axes[1].set_ylabel(\"Count\")\n",
    "\n",
    "plt.tight_layout()\n",
    "plt.show()\n",
    "\n",
    "\n",
    "print()\n",
    "ari = adjusted_rand_score(true_labels, labels)\n",
    "print(f\"Adjusted Rand Score vs Sample Submission: {ari:.4f}\")\n",
    "print()\n",
    "    \n",
    "# Вывод уникальных меток и распределений\n",
    "print(\"Unique labels in sample submission:\", submission_example[\"TARGET\"].unique())\n",
    "print(\"Label distribution in sample submission:\\n\", submission_example[\"TARGET\"].value_counts().sort_index())\n",
    "\n",
    "print(\"\\nUnique labels in predicted submission:\", submission_predicted[\"TARGET\"].unique())\n",
    "print(\"Label distribution in predicted submission:\\n\", submission_predicted[\"TARGET\"].value_counts().sort_index())"
   ],
   "id": "ba6d4681809abb59",
   "outputs": [
    {
     "data": {
      "text/plain": [
       "<Figure size 1400x600 with 2 Axes>"
      ],
      "image/png": "[encoded data removed]"
     },
     "metadata": {},
     "output_type": "display_data"
    },
    {
     "name": "stdout",
     "output_type": "stream",
     "text": [
      "\n",
      "Adjusted Rand Score vs Sample Submission: 1.0000\n",
      "\n",
      "Unique labels in sample submission: [2 4 0 3 1]\n",
      "Label distribution in sample submission:\n",
      " TARGET\n",
      "0    2888\n",
      "1    1991\n",
      "2    8049\n",
      "3    2980\n",
      "4    5092\n",
      "Name: count, dtype: int64\n",
      "\n",
      "Unique labels in predicted submission: [2 4 0 3 1]\n",
      "Label distribution in predicted submission:\n",
      " TARGET\n",
      "0    2888\n",
      "1    1991\n",
      "2    8049\n",
      "3    2980\n",
      "4    5092\n",
      "Name: count, dtype: int64\n"
     ]
    }
   ],
   "execution_count": 235
  },
  {
   "metadata": {},
   "cell_type": "code",
   "outputs": [],
   "execution_count": null,
   "source": "pd.read_csv(\"submission_submit_main_1.csv\")[\"TARGET\"].values",
   "id": "ef18571d8ce815d6"
  },
  {
   "metadata": {},
   "cell_type": "markdown",
   "source": "## Оценка в баллах\n",
   "id": "afe0143613526693"
  },
  {
   "metadata": {
    "ExecuteTime": {
     "end_time": "2025-05-01T15:27:53.267350Z",
     "start_time": "2025-05-01T15:27:53.245362Z"
    }
   },
   "cell_type": "code",
   "source": [
    "my_score = 0.57589\n",
    "best_score = 0.85774\n",
    "simple_score = 0.09889\n",
    "\n",
    "grade = 5 + 5 * (my_score - simple_score) / (best_score - simple_score)\n",
    "print(f\"Результат: {grade:.2f} балла\")"
   ],
   "id": "f8101efa4e097fd1",
   "outputs": [
    {
     "name": "stdout",
     "output_type": "stream",
     "text": [
      "Результат: 8.14 балла\n"
     ]
    }
   ],
   "execution_count": 246
  },
  {
   "metadata": {
    "ExecuteTime": {
     "end_time": "2025-05-01T14:33:39.098931Z",
     "start_time": "2025-05-01T14:33:39.086923Z"
    }
   },
   "cell_type": "code",
   "source": "",
   "id": "dfc1faad0204035b",
   "outputs": [],
   "execution_count": null
  }
 ],
 "metadata": {
  "kernelspec": {
   "display_name": "Python 3",
   "language": "python",
   "name": "python3"
  },
  "language_info": {
   "codemirror_mode": {
    "name": "ipython",
    "version": 2
   },
   "file_extension": ".py",
   "mimetype": "text/x-python",
   "name": "python",
   "nbconvert_exporter": "python",
   "pygments_lexer": "ipython2",
   "version": "2.7.6"
  }
 },
 "nbformat": 4,
 "nbformat_minor": 5
}
